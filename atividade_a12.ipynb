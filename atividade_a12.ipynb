{
  "nbformat": 4,
  "nbformat_minor": 0,
  "metadata": {
    "colab": {
      "provenance": [],
      "authorship_tag": "ABX9TyMqF6Ok+3N3+kcOfTgLnzS9",
      "include_colab_link": true
    },
    "kernelspec": {
      "name": "python3",
      "display_name": "Python 3"
    },
    "language_info": {
      "name": "python"
    }
  },
  "cells": [
    {
      "cell_type": "markdown",
      "metadata": {
        "id": "view-in-github",
        "colab_type": "text"
      },
      "source": [
        "<a href=\"https://colab.research.google.com/github/luizhbfilho/metodos-quantitativos/blob/main/atividade_a12.ipynb\" target=\"_parent\"><img src=\"https://colab.research.google.com/assets/colab-badge.svg\" alt=\"Open In Colab\"/></a>"
      ]
    },
    {
      "cell_type": "markdown",
      "source": [
        "## **Atividade A12**\n",
        "\n",
        "a. Valor da média, a mediana e a moda:\n",
        "\n",
        "O código calcula esses três valores estatísticos essenciais para qualquer coluna de interesse (representada por um sistema operacional selecionado) no conjunto de dados. Ele utiliza os métodos mean(), median(), e mode() do pandas para realizar os cálculos.\n",
        "\n",
        "b. Quando algum destes valores não puder ser calculado indique o porquê:\n",
        "\n",
        "Enquanto a média e a mediana sempre podem ser calculadas para dados numéricos, a moda pode não ser única ou até inexistente em um conjunto de dados sem repetições. O código lida com isso verificando o tamanho do array retornado por mode(). Se não houver moda única, o código informa que não há uma moda única.\n",
        "\n",
        "c. Indicação se a distribuição é simétrica ou não:\n",
        "\n",
        "O código compara a média, a mediana e a moda para determinar a simetria da distribuição. Se esses três valores forem iguais, a distribuição é considerada simétrica. Se a média for maior que a mediana, que por sua vez é maior que a moda, a distribuição é inclinada para a direita. O inverso indica uma inclinação para a esquerda. Se essas relações não se aplicarem, o código observa que a distribuição é assimétrica e não pode ser determinada como inclinada para a esquerda ou direita sem análise adicional.\n",
        "\n",
        "d. Valor do Desvio Absoluto Médio, da variância e do desvio padrão:\n",
        "\n",
        "O código calcula o desvio absoluto médio através de (df - df.mean()).abs().mean(). Também calcula a variância e o desvio padrão usando os métodos var() e std(), respectivamente. Estas medidas fornecem uma noção da dispersão dos dados em torno da média.\n",
        "\n",
        "e. Percentual de dados que está além de um desvio padrão da média:\n",
        "\n",
        "O código calcula o percentual de dados que está mais de um desvio padrão distante da média. Isto é realizado selecionando os valores que estão fora do intervalo [média - desvio padrão, média + desvio padrão] e dividindo o número desses valores pelo total de observações.\n",
        "\n",
        "Ao receber o nome de um sistema operacional como input, o código executa todos os cálculos para a coluna selecionada do conjunto de dados."
      ],
      "metadata": {
        "id": "2jvCFZu97G8U"
      }
    },
    {
      "cell_type": "code",
      "execution_count": 11,
      "metadata": {
        "id": "4hQQyrJWlffh",
        "colab": {
          "base_uri": "https://localhost:8080/"
        },
        "outputId": "e4ef239c-3a1a-493d-f36e-e059fe2a8c67"
      },
      "outputs": [
        {
          "output_type": "stream",
          "name": "stdout",
          "text": [
            "Digite o sistema operacional a ser avaliado: Windows\n",
            "Resultados para Windows:\n",
            "Média: 54.155499999999996\n",
            "Mediana: 43.425\n",
            "Moda: 27.83\n",
            "Desvio Absoluto Médio (MAD): 20.91935555555556\n",
            "Variância: 541.7441019832402\n",
            "Desvio Padrão: 23.275396924289822\n",
            "Distribuição: Inclinada para a direita\n",
            "Percentual de dados além de 1 Desvio Padrão da Média: 38.88888888888889%\n"
          ]
        }
      ],
      "source": [
        "import pandas as pd\n",
        "\n",
        "def calcula_estatisticas_os(nome_os):\n",
        "    data = pd.read_csv('os_worldwide.csv')\n",
        "    os_data = data[nome_os]\n",
        "\n",
        "    media = os_data.mean()\n",
        "    mediana = os_data.median()\n",
        "    moda = os_data.mode().values\n",
        "    mad = (os_data - os_data.mean()).abs().mean()\n",
        "    variancia = os_data.var()\n",
        "    desvio_padrao = os_data.std()\n",
        "\n",
        "    if media == mediana == moda[0]:\n",
        "        distribuicao = \"Simétrica\"\n",
        "    elif media > mediana > moda[0]:\n",
        "        distribuicao = \"Inclinada para a direita\"\n",
        "    elif media < mediana < moda[0]:\n",
        "        distribuicao = \"Inclinada para a esquerda\"\n",
        "    else:\n",
        "        distribuicao = \"Assimétrica, não pode ser determinada como inclinada para a esquerda ou para a direita sem análise adicional\"\n",
        "\n",
        "    alem_desvio_padrao = len(os_data[(os_data < (media - desvio_padrao)) | (os_data > (media + desvio_padrao))]) / len(os_data) * 100\n",
        "\n",
        "    print(f\"Resultados para {nome_os}:\")\n",
        "    print(f\"Média: {media}\")\n",
        "    print(f\"Mediana: {mediana}\")\n",
        "    print(f\"Moda: {moda[0] if moda.size > 0 else 'Sem moda única'}\")\n",
        "    print(f\"Desvio Absoluto Médio (MAD): {mad}\")\n",
        "    print(f\"Variância: {variancia}\")\n",
        "    print(f\"Desvio Padrão: {desvio_padrao}\")\n",
        "    print(f\"Distribuição: {distribuicao}\")\n",
        "    print(f\"Percentual de dados além de 1 Desvio Padrão da Média: {alem_desvio_padrao}%\")\n",
        "\n",
        "os = input('Digite o sistema operacional a ser avaliado: ')\n",
        "calcula_estatisticas_os(os)\n"
      ]
    }
  ]
}