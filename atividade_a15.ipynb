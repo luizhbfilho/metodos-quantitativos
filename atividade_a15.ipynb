{
 "cells": [
  {
   "cell_type": "markdown",
   "metadata": {},
   "source": [
    "#### Atividade A15\n",
    "\n",
    "O código abaixo simula sorteios de palavras de acordo com o exercício 5.28, realiza a contagem da frequência de cada palavra sorteada e por fim gera um arquivo .csv contendo todos os resultados. "
   ]
  },
  {
   "cell_type": "code",
   "execution_count": 6,
   "metadata": {},
   "outputs": [],
   "source": [
    "import csv\n",
    "import itertools\n",
    "import random\n",
    "from collections import Counter"
   ]
  },
  {
   "cell_type": "code",
   "execution_count": 7,
   "metadata": {},
   "outputs": [],
   "source": [
    "primeiras_letras = ['q', 'w', 'x', 'z']\n",
    "segundas_letras = ['a', 'i', 'u']\n",
    "terceiras_letras = ['c', 'f', 'p']\n",
    "quartas_letras = ['e', 'o']"
   ]
  },
  {
   "cell_type": "code",
   "execution_count": 12,
   "metadata": {},
   "outputs": [
    {
     "name": "stdout",
     "output_type": "stream",
     "text": [
      "Arquivo .csv criado em resultados_simulacao_sorteios.csv\n"
     ]
    }
   ],
   "source": [
    "todas_combinacoes = list(itertools.product(primeiras_letras, segundas_letras, terceiras_letras, quartas_letras))\n",
    "\n",
    "palavras = [''.join(palavra) for palavra in todas_combinacoes]\n",
    "\n",
    "def simular_sorteios(numero_sorteios):\n",
    "    palavras_sorteadas = [random.choice(palavras) for _ in range(numero_sorteios)]\n",
    "    contagem_palavras = Counter(palavras_sorteadas)\n",
    "\n",
    "    porcentagem_esperada = {palavra: round((contagem / numero_sorteios) * 100, 2) for palavra, contagem in contagem_palavras.items()}\n",
    "\n",
    "    return contagem_palavras, porcentagem_esperada\n",
    "\n",
    "lista_numero_sorteios = [72, 216, 720, 2160, 7200, 72000]\n",
    "resultados_simulacao = {}\n",
    "for numero_sorteios in lista_numero_sorteios:\n",
    "    resultados_simulacao[numero_sorteios] = simular_sorteios(numero_sorteios)\n",
    "\n",
    "caminho_arquivo_csv = 'resultados_simulacao_sorteios.csv'\n",
    "cabecalho = ['Palavra', '72 sorteios', '216 sorteios', '720 sorteios', '2160 sorteios', '7200 sorteios', '72000 sorteios', 'Esperado (%)']\n",
    "dados_csv = [cabecalho]\n",
    "\n",
    "palavras_unicas = set(palavra for resultado in resultados_simulacao.values() for palavra in resultado[0].keys())\n",
    "\n",
    "palavras_ordenadas = sorted(palavras_unicas)\n",
    "\n",
    "for palavra in palavras_ordenadas:\n",
    "    dados_palavra = [palavra] \n",
    "    for numero_sorteios in lista_numero_sorteios:\n",
    "        dados_palavra.append(resultados_simulacao[numero_sorteios][0].get(palavra, 0))\n",
    "\n",
    "    porcentagem_esperada = round(100 / len(palavras), 2)\n",
    "    dados_palavra.append(porcentagem_esperada)\n",
    "    dados_csv.append(dados_palavra)\n",
    "\n",
    "with open(caminho_arquivo_csv, mode='w', newline='', encoding='utf-8') as arquivo:\n",
    "    escritor = csv.writer(arquivo)\n",
    "    escritor.writerows(dados_csv)\n",
    "\n",
    "print(f\"Arquivo .csv gerado: {caminho_arquivo_csv}\")"
   ]
  },
  {
   "cell_type": "markdown",
   "metadata": {},
   "source": [
    "#### Perguntas\n",
    "\n",
    "**O número de vezes que cada palavra sorteada foi igual em cada conjunto de sorteios?**\n",
    "\n",
    "Não, o número de vezes que cada palavra é sorteada não é igual em cada conjunto de sorteios. Isso se deve aos processos aleatórios, mesmo que cada palavra tenha a mesma probabilidade de ser escolhida diante das outras, a frequência com que ela será escolhida irá variar devido à aleatoriedade.\n",
    "\n",
    "**Em todas as colunas os números são iguais percentualmente? Por quê?**\n",
    "\n",
    "Não, os números não são iguais percentualmente pois em amostras de sorte menores como 72 ou 216 a variabilidade é maior e as frequências podem se desviar significativamente do valor que é esperado. Quando o número de sorteios aumenta essas probabilidades tendem a se aproximar cada vez mais da média esperada.\n",
    "\n",
    "**Há alguma tendência à medida que se realizam mais sorteios? Em caso positivo, qual?**\n",
    "\n",
    "Sim, a tendência é de que quanto mais sorteios são realizados mais a frequência relativa se aproxima da probabilidade teórica. Isso se deve à Lei dos Grandes Números que diz que à medida que o tamanho da amostra aumenta, a média das observações tende a se aproximar da média esperada para a população total.\n",
    "\n",
    "**O que se pode concluir deste experimento?**\n",
    "\n",
    "Pode se concluir que com experimentos aleatórios, amostras maiores representam melhor a distribuição probabilística esperada. Experimentos que utilizam amostragem pequena estão mais sujeitos a variações devido ao acaso e podem não refletir com precisão a probabilidade real. \n",
    "\n"
   ]
  }
 ],
 "metadata": {
  "kernelspec": {
   "display_name": "Python 3",
   "language": "python",
   "name": "python3"
  },
  "language_info": {
   "codemirror_mode": {
    "name": "ipython",
    "version": 3
   },
   "file_extension": ".py",
   "mimetype": "text/x-python",
   "name": "python",
   "nbconvert_exporter": "python",
   "pygments_lexer": "ipython3",
   "version": "3.11.0"
  }
 },
 "nbformat": 4,
 "nbformat_minor": 2
}
