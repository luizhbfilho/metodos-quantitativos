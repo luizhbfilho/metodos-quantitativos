{
  "nbformat": 4,
  "nbformat_minor": 0,
  "metadata": {
    "colab": {
      "provenance": [],
      "authorship_tag": "ABX9TyMJIsde8QxbCInlL/b14dQj",
      "include_colab_link": true
    },
    "kernelspec": {
      "name": "python3",
      "display_name": "Python 3"
    },
    "language_info": {
      "name": "python"
    }
  },
  "cells": [
    {
      "cell_type": "markdown",
      "metadata": {
        "id": "view-in-github",
        "colab_type": "text"
      },
      "source": [
        "<a href=\"https://colab.research.google.com/github/luizhbfilho/metodos-quantitativos/blob/main/atividade_a11.ipynb\" target=\"_parent\"><img src=\"https://colab.research.google.com/assets/colab-badge.svg\" alt=\"Open In Colab\"/></a>"
      ]
    },
    {
      "cell_type": "markdown",
      "source": [
        "## Atividade A11\n",
        "\n",
        "#### Exercício 1\n",
        "\n",
        "**Quer se estudar o número de erros de impressão de um livro. Para isso escolheu-se uma amostra de 50 páginas, encontrando-se o número de erros por página da tabela abaixo.**\n",
        "\n",
        "(a)\tQual o número médio de erros por página?\n",
        "\n",
        "(b)\tE o número mediano?\n",
        "\n",
        "(c)\tQual é o desvio padrão?\n",
        "\n",
        "(d)\tFaça uma representação gráfica para a distribuição.\n",
        "\n",
        "(e)\tSe o livro tem 500 páginas, qual é o número total de erros esperado no livro?\n",
        "\n",
        "\n",
        "#### Exercício 2\n",
        "\n",
        "As taxas de juros recebidas por 10 ações durante um certo período foram (medidas em porcentagem) 2,59; 2,64; 2,60; 2,62; 2,57; 2,55; 2,61; 2,50; 2,63; 2,64. Calcule a média, a mediana e o desvio padrão.\n",
        "\n",
        "\n",
        "#### Exercício 3\n",
        "\n",
        "Para facilitar um projeto de ampliação da rede de esgoto de uma certa região de uma cidade, as autoridades tomaram uma amostra de tamanho 50 dos 270 quarteirões que compõem a região, e foram encontrados os seguintes números de casas por quarteirão:\n",
        "\n"
      ],
      "metadata": {
        "id": "3TdXsVJrErvd"
      }
    }
  ]
}